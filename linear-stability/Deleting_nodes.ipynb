{
 "cells": [
  {
   "cell_type": "code",
   "execution_count": 194,
   "metadata": {},
   "outputs": [
    {
     "name": "stdout",
     "output_type": "stream",
     "text": [
      "The autoreload extension is already loaded. To reload it, use:\n",
      "  %reload_ext autoreload\n"
     ]
    }
   ],
   "source": [
    "%load_ext autoreload\n",
    "%autoreload 2"
   ]
  },
  {
   "cell_type": "code",
   "execution_count": 203,
   "metadata": {},
   "outputs": [],
   "source": [
    "import os,sys,inspect\n",
    "import os\n",
    "import joblib\n",
    "import tensorflow as tf\n",
    "import numpy as np\n",
    "import h5py\n",
    "import scipy.sparse.linalg as la\n",
    "import scipy.sparse as sp\n",
    "import scipy\n",
    "import time\n",
    "import pickle\n",
    "\n",
    "import matplotlib.pyplot as plt\n",
    "from matplotlib.backends.backend_pdf import PdfPages\n",
    "%matplotlib inline\n",
    "\n",
    "import scipy.io as sio\n",
    "import process_data\n",
    "import graph"
   ]
  },
  {
   "cell_type": "code",
   "execution_count": 204,
   "metadata": {},
   "outputs": [
    {
     "name": "stdout",
     "output_type": "stream",
     "text": [
      "(2708, 2708)\n",
      "(2708, 1433)\n",
      "Cora -> Number of nodes = 2708 Number of edges = 6632 \n",
      "\n"
     ]
    },
    {
     "name": "stderr",
     "output_type": "stream",
     "text": [
      "/anaconda3/lib/python3.6/site-packages/scipy/sparse/_index.py:112: SparseEfficiencyWarning: Changing the sparsity structure of a csr_matrix is expensive. lil_matrix is more efficient.\n",
      "  self._set_arrayXarray(i, j, x)\n"
     ]
    }
   ],
   "source": [
    "# Load Cora dataset\n",
    "A, _, _, _, _, _ = process_data.load_data(\"cora\")\n",
    "A = scipy.sparse.csr_matrix(A, dtype=np.float32)\n",
    "N, _ = A.shape\n",
    "A.setdiag(0)\n",
    "print(\"Cora -> Number of nodes =\", N, \"Number of edges =\", A.nnz // 2, \"\\n\")"
   ]
  },
  {
   "cell_type": "code",
   "execution_count": 205,
   "metadata": {},
   "outputs": [
    {
     "data": {
      "text/plain": [
       "'### TEST ###\\nrandom_matrix = np.random.randint(0, 10, (10,10))\\nprint(random_matrix)\\nA_new, removed = remove_random_nodes(random_matrix, 0.4)\\nprint(removed)\\nprint(A_new)'"
      ]
     },
     "execution_count": 205,
     "metadata": {},
     "output_type": "execute_result"
    }
   ],
   "source": [
    "def remove_random_nodes(A, r=0):\n",
    "    if r<0 or r>1:\n",
    "        print(\"Randomness level r not in range [0,1]\")\n",
    "        return\n",
    "\n",
    "    M, _ = A.shape\n",
    "    indexes = np.arange(M)\n",
    "    \n",
    "\n",
    "    num_to_keep = int(round((1-r) * M))\n",
    "    indexes_to_keep = np.sort(np.random.choice(indexes, size=num_to_keep, replace=False, p=None))\n",
    "    indexes_to_remove = np.setdiff1d(indexes, indexes_to_keep)\n",
    "\n",
    "    indexes_to_keep_list = indexes_to_keep.tolist()\n",
    "    \n",
    "    A_reduced = A[indexes_to_keep_list, :]\n",
    "    A_reduced = A_reduced[:, indexes_to_keep_list]   \n",
    "    \n",
    "    #A_reduced = sp.csr_matrix(A, dtype=np.float32)[indexes_to_keep_list, :] # Delete rows\n",
    "    #A_reduced = sp.csr_matrix(A_reduced[:, indexes_to_keep_list], dtype=np.float32) # Delete columns\n",
    "\n",
    "    return A_reduced, indexes_to_remove\n",
    "\n",
    "\n",
    "\n",
    "def remove_specific_nodes(A, indexes_to_remove):\n",
    "    M, _ = A.shape\n",
    "    indexes = np.arange(M)\n",
    "    \n",
    "    indexes_to_keep = np.setdiff1d(indexes, indexes_to_remove)\n",
    "    indexes_to_keep_list = indexes_to_keep.tolist()\n",
    "    \n",
    "    A_reduced = A[indexes_to_keep_list, :]\n",
    "    A_reduced = A_reduced[:, indexes_to_keep_list]   \n",
    "    \n",
    "    #A_reduced = sp.csr_matrix(A, dtype=np.float32)[indexes_to_keep_list, :] # Delete rows\n",
    "    #A_reduced = sp.csr_matrix(A_reduced[:, indexes_to_keep_list], dtype=np.float32) # Delete columns\n",
    "\n",
    "    return A_reduced\n",
    "\n",
    "\n",
    "\n",
    "\"\"\"### TEST ###\n",
    "random_matrix = np.random.randint(0, 10, (10,10))\n",
    "print(random_matrix)\n",
    "A_new, removed = remove_random_nodes(random_matrix, 0.4)\n",
    "print(removed)\n",
    "print(A_new)\"\"\""
   ]
  },
  {
   "cell_type": "code",
   "execution_count": 206,
   "metadata": {},
   "outputs": [],
   "source": [
    "def cayley_operator(L, r, scale, coefficients):\n",
    "    s = np.linalg.norm(L.toarray(), 2)\n",
    "    h = 2.0*scale/s\n",
    "    N = L.shape[0]\n",
    "    A = (h*L.toarray() - 1j*np.identity(N)) @ np.linalg.inv(h*L.toarray() + 1j*np.identity(N))\n",
    "    AA = np.eye(A.shape[0])\n",
    "    res = np.eye(A.shape[0])*coefficients[0]\n",
    "    for k in range(r):\n",
    "        res = res + 2.0* coefficients[k+1] * (AA @ A).real\n",
    "        AA = AA @ A\n",
    "    return res.real"
   ]
  },
  {
   "cell_type": "code",
   "execution_count": 207,
   "metadata": {},
   "outputs": [],
   "source": [
    "L = graph.laplacian(A, normalized=True)\n",
    "r = 12\n",
    "\n",
    "\n",
    "\n",
    "coefficients_low = np.array([ 0.762957  , -0.55845029,  0.16243145,  0.04000212, -0.04137109,\n",
    "                          0.        ,  0.        ,  0.        ,  0.        ,  0.        ,\n",
    "                          0.        ,  0.        ,  0.        ])*0.985 * 0.98\n",
    "coefficients_mid = np.array([ 0.72875482, -0.14645678, -0.44402514,  0.13537618,  0.12523632,\n",
    "                                0.00815884, -0.03310949, -0.01980383, -0.00557673,  0.01227825,\n",
    "                                -0.00673004,  0.01079311, -0.00618034])*1.05*0.98\n",
    "\n",
    "coefficients_hig = np.array([ 0.52028883,  0.213328  , -0.2321755 , -0.30423973, -0.11923577,\n",
    "                              0.04332396,  0.10535769,  0.07566094,  0.02054968, -0.01731303,\n",
    "                              -0.02321388, -0.00983169, -0.00594752])*0.96"
   ]
  },
  {
   "cell_type": "code",
   "execution_count": 209,
   "metadata": {},
   "outputs": [
    {
     "name": "stdout",
     "output_type": "stream",
     "text": [
      "Randomness level: 0.0 Errors: [0. 0. 0.]\n",
      "Randomness level: 0.1 Errors: [0.14185136 0.20270493 0.14207511]\n",
      "Randomness level: 0.2 Errors: [0.22754814 0.30715366 0.24773739]\n",
      "Randomness level: 0.30000000000000004 Errors: [0.28179379 0.37383228 0.37381298]\n",
      "Randomness level: 0.4 Errors: [0.33419792 0.43261261 0.5256586 ]\n",
      "Randomness level: 0.5 Errors: [0.37718659 0.47074294 0.71184665]\n",
      "Randomness level: 0.6000000000000001 Errors: [0.41862974 0.50703782 0.95971787]\n",
      "Randomness level: 0.7000000000000001 Errors: [0.46830995 0.52356298 1.35656213]\n",
      "Randomness level: 0.8 Errors: [0.50241207 0.52161988 2.13075012]\n",
      "Randomness level: 0.9 Errors: [0.54957641 0.48953184 3.30207432]\n"
     ]
    }
   ],
   "source": [
    "randomness_range = np.arange(0, 0.95, 0.1) \n",
    "scales = np.linspace(1.0,0.5,10)\n",
    "L_dif_3 = []\n",
    "G_dif_3 = []\n",
    "i = 0\n",
    "np.random.seed(1)\n",
    "for rand in randomness_range:\n",
    "    A_prime, removed_indexes = remove_random_nodes(A, rand)\n",
    "   \n",
    "\n",
    "    L_prime = graph.laplacian(A_prime, normalized=True)\n",
    "    L_second = remove_specific_nodes(L, removed_indexes)\n",
    "\n",
    "    \n",
    "    rel_err_L_prime_second = np.linalg.norm(L_prime.toarray() - L_second.toarray(), 'fro') / np.linalg.norm(L_prime.toarray(), 'fro')\n",
    "    L_dif_3.append(rel_err_L_prime_second)\n",
    "\n",
    "\n",
    "    F_low = cayley_operator(L, r, 1.0, coefficients_low)\n",
    "    F_mid = cayley_operator(L, r, 1.0, coefficients_mid)\n",
    "    F_hig = cayley_operator(L, r, 1.0, coefficients_hig)\n",
    "\n",
    "    F_prime_low = cayley_operator(L_prime, r, scales[i], coefficients_low)\n",
    "    F_prime_mid = cayley_operator(L_prime, r, scales[i], coefficients_mid)\n",
    "    F_prime_hig = cayley_operator(L_prime, r, scales[i], coefficients_hig)\n",
    "\n",
    "    F_second_low = remove_specific_nodes(F_low, removed_indexes)\n",
    "    F_second_mid = remove_specific_nodes(F_mid, removed_indexes)\n",
    "    F_second_hig = remove_specific_nodes(F_hig, removed_indexes)\n",
    "\n",
    "    rel_err_F_prime_second_low = np.linalg.norm(F_prime_low - F_second_low, 'fro') / np.linalg.norm(F_prime_low, 'fro')\n",
    "    rel_err_F_prime_second_mid = np.linalg.norm(F_prime_mid - F_second_mid, 'fro') / np.linalg.norm(F_prime_mid, 'fro')\n",
    "    rel_err_F_prime_second_hig = np.linalg.norm(F_prime_hig - F_second_hig, 'fro') / np.linalg.norm(F_prime_hig, 'fro')\n",
    "    G_dif_3.append(np.array([rel_err_F_prime_second_low, rel_err_F_prime_second_mid, rel_err_F_prime_second_hig]))\n",
    "\n",
    "    print(\"Randomness level:\", rand, \"Errors:\", G_dif_3[i])\n",
    "    i = i+1"
   ]
  },
  {
   "cell_type": "code",
   "execution_count": 210,
   "metadata": {},
   "outputs": [
    {
     "data": {
      "image/png": "[encoded data removed]",
      "text/plain": [
       "<Figure size 432x288 with 1 Axes>"
      ]
     },
     "metadata": {
      "needs_background": "light"
     },
     "output_type": "display_data"
    }
   ],
   "source": [
    "G_dif_3 = np.asarray(G_dif_3)\n",
    "\n",
    "plt.plot(L_dif_3, G_dif_3[:,0], 'r')\n",
    "plt.scatter(L_dif_3, G_dif_3[:,0], c='r', s=10)\n",
    "\n",
    "\n",
    "plt.plot(L_dif_3, G_dif_3[:,1], 'b')\n",
    "plt.scatter(L_dif_3, G_dif_3[:,1], c='b', s=10)\n",
    "\n",
    "\n",
    "plt.plot(L_dif_3, G_dif_3[:,2], 'g')\n",
    "plt.scatter(L_dif_3, G_dif_3[:,2], c='g', s=10)\n",
    "\n",
    "\n",
    "labels = [\"0%\", \"5%\", \"10%\", \"15%\", \"20%\", \"25%\", \"30%\", \"35%\", \"40%\", \"45%\", \"50%\", \"55%\", \"60%\", \"65%\", \"70%\", \"75%\", \"80%\", \"85%\", \"90%\"]\n",
    "\n",
    "\"\"\"i=0\n",
    "for x,y in zip(L_dif_3, G_dif_3[:,1]):\n",
    "\n",
    "    label = labels[i]\n",
    "    i = i+1\n",
    "\n",
    "    if i in [0, 1, 2, 3, 4, 6, 8, 10, 14]:\n",
    "        plt.annotate(label, # this is the text\n",
    "                     (x,y), # this is the point to label\n",
    "                     textcoords=\"offset points\", # how to position the text\n",
    "                     xytext=(0,10), # distance from text to points (x,y)\n",
    "                     ha='center') # horizontal alignment can be left, right or center\n",
    "        \n",
    "\n",
    "i=0      \n",
    "for x,y in zip(L_dif_3, G_dif_3[:,0]):\n",
    "\n",
    "    label = labels[i]\n",
    "    i = i+1\n",
    "\n",
    "    if i in [2, 3, 5, 7, 9, 13, 17]:\n",
    "        plt.annotate(label, # this is the text\n",
    "                     (x,y), # this is the point to label\n",
    "                     textcoords=\"offset points\", # how to position the text\n",
    "                     xytext=(0,-20), # distance from text to points (x,y)\n",
    "                     ha='center') # horizontal alignment can be left, right or center\n",
    "\n",
    "\"\"\"\n",
    "\n",
    "\n",
    "legend = [\"Low pass\", \"Mid pass\", \"High pass\"]\n",
    "\n",
    "plt.ylabel('Filter Error')\n",
    "plt.xlabel('Laplacian Error')\n",
    "plt.legend(legend)\n",
    "#plt.title('(b)')\n",
    "plt.savefig(\"./linear_stability_3.pdf\", format='pdf')\n",
    "plt.show()"
   ]
  },
  {
   "cell_type": "code",
   "execution_count": null,
   "metadata": {},
   "outputs": [],
   "source": []
  }
 ],
 "metadata": {
  "kernelspec": {
   "display_name": "Python 3",
   "language": "python",
   "name": "python3"
  },
  "language_info": {
   "codemirror_mode": {
    "name": "ipython",
    "version": 3
   },
   "file_extension": ".py",
   "mimetype": "text/x-python",
   "name": "python",
   "nbconvert_exporter": "python",
   "pygments_lexer": "ipython3",
   "version": "3.6.8"
  }
 },
 "nbformat": 4,
 "nbformat_minor": 2
}
