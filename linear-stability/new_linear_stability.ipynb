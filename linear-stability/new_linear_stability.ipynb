{
 "cells": [
  {
   "cell_type": "code",
   "execution_count": 2,
   "metadata": {},
   "outputs": [],
   "source": [
    "import graph\n",
    "import numpy as np\n",
    "import matplotlib.lines as mlines\n",
    "from pylab import *\n",
    "import matplotlib.pylab as plt\n",
    "from matplotlib import pyplot\n",
    "from matplotlib.pyplot import imshow\n",
    "from matplotlib import cm\n",
    "from mpl_toolkits.mplot3d import Axes3D\n",
    "import scipy\n",
    "import scipy.sparse as sp\n",
    "import scipy.sparse.linalg as la\n",
    "import scipy.spatial.distance\n",
    "import scipy.io as sio\n",
    "import process_data\n",
    "from scipy.stats import poisson"
   ]
  },
  {
   "cell_type": "markdown",
   "metadata": {},
   "source": [
    "Definition of Cayley Filter"
   ]
  },
  {
   "cell_type": "code",
   "execution_count": 3,
   "metadata": {},
   "outputs": [],
   "source": [
    "def cayley(lamb, c, h, r):\n",
    "    complex_value = 0.5 * c[0] * np.ones(len(lamb))\n",
    "    for i in range(1, r+1):\n",
    "        complex_value = complex_value + c[i]*((h*lamb -1j)**i)*((h*lamb + 1j)**(-i))\n",
    "    return 2.0 * (complex_value.real)"
   ]
  },
  {
   "cell_type": "code",
   "execution_count": 4,
   "metadata": {},
   "outputs": [],
   "source": [
    "h = 1.0"
   ]
  },
  {
   "cell_type": "markdown",
   "metadata": {},
   "source": [
    "Summary"
   ]
  },
  {
   "cell_type": "code",
   "execution_count": 13,
   "metadata": {},
   "outputs": [
    {
     "data": {
      "image/png": "[encoded data removed]",
      "text/plain": [
       "<Figure size 432x288 with 1 Axes>"
      ]
     },
     "metadata": {
      "needs_background": "light"
     },
     "output_type": "display_data"
    }
   ],
   "source": [
    "coefficients_low = array([ 0.762957  , -0.55845029,  0.16243145,  0.04000212, -0.04137109,\n",
    "                          0.        ,  0.        ,  0.        ,  0.        ,  0.        ,\n",
    "                          0.        ,  0.        ,  0.        ])*0.985 * 0.98\n",
    "coefficients_middle = np.array([ 0.72875482, -0.14645678, -0.44402514,  0.13537618,  0.12523632,\n",
    "                                0.00815884, -0.03310949, -0.01980383, -0.00557673,  0.01227825,\n",
    "                                -0.00673004,  0.01079311, -0.00618034])*1.05*0.98\n",
    "\n",
    "coefficients_high = np.array([ 0.52028883,  0.213328  , -0.2321755 , -0.30423973, -0.11923577,\n",
    "                              0.04332396,  0.10535769,  0.07566094,  0.02054968, -0.01731303,\n",
    "                              -0.02321388, -0.00983169, -0.00594752])*0.96\n",
    "\n",
    "lamb = np.linspace(0,2, 100)\n",
    "\n",
    "fig = plt.figure()\n",
    "ax1 = fig.add_subplot(111)\n",
    "\n",
    "r = 12\n",
    "h = .9\n",
    "\n",
    "ax1.plot(lamb, cayley(lamb, coefficients_low, .7, r), c='g', label='low')\n",
    "ax1.plot(lamb, cayley(lamb, coefficients_middle, 1.0, r), c='b', label='middle')\n",
    "ax1.plot(lamb, cayley(lamb, coefficients_high, 1.0, r),c='r', label='high')\n",
    "plt.legend(loc='upper left');\n",
    "plt.show()"
   ]
  },
  {
   "cell_type": "code",
   "execution_count": 128,
   "metadata": {},
   "outputs": [
    {
     "name": "stdout",
     "output_type": "stream",
     "text": [
      "[ 0.73648239 -0.53907206  0.15679508  0.03861405 -0.03993551  0.\n",
      "  0.          0.          0.          0.          0.          0.\n",
      "  0.        ]\n",
      "[ 0.74988871 -0.15070403 -0.45690187  0.13930209  0.12886817  0.00839545\n",
      " -0.03406967 -0.02037814 -0.00573846  0.01263432 -0.00692521  0.01110611\n",
      " -0.00635957]\n",
      "[ 0.49947728  0.20479488 -0.22288848 -0.29207014 -0.11446634  0.041591\n",
      "  0.10114338  0.0726345   0.01972769 -0.01662051 -0.02228532 -0.00943842\n",
      " -0.00570962]\n"
     ]
    }
   ],
   "source": [
    "print(coefficients_low)\n",
    "print(coefficients_middle)\n",
    "print(coefficients_high)"
   ]
  },
  {
   "cell_type": "markdown",
   "metadata": {},
   "source": [
    "Experiment"
   ]
  },
  {
   "cell_type": "code",
   "execution_count": 139,
   "metadata": {},
   "outputs": [],
   "source": [
    "##########################\n",
    "###                    ###\n",
    "###   PERTURBATION 1   ###\n",
    "###                    ###\n",
    "##########################\n",
    "\n",
    "\n",
    "def remove_random_edges(A, k):\n",
    "    \"\"\"This function removes fraction k of graph edges.\"\"\"\n",
    "    \n",
    "    if k<0:\n",
    "        print(\"k must be positive.\")\n",
    "        return\n",
    "    \n",
    "    if k>1:\n",
    "        print(\"k must be <=1.\")\n",
    "        return\n",
    "    \n",
    "    if k==0:\n",
    "        A_tilde = sp.csr_matrix(A, dtype=np.float32)\n",
    "        A_tilde.eliminate_zeros()\n",
    "        print(\"k = \", k, \" -> Removing 0 edges out of \", A_tilde.nnz // 2, \".\")\n",
    "        return A_tilde\n",
    "    \n",
    "    if k==1:\n",
    "        M, M = A.shape\n",
    "        A_tilde = np.zeros((M,M))\n",
    "        A_tilde = sp.csr_matrix(A_tilde, dtype=np.float32)\n",
    "        A_tilde.eliminate_zeros()\n",
    "        print(\"k = \", k, \" -> Removing all edges.\")\n",
    "        return A_tilde\n",
    "    \n",
    "    \n",
    "    A_csr = sp.csr_matrix(A, dtype=np.float32)\n",
    "    A_csr.setdiag(0)\n",
    "    A_csr.eliminate_zeros()\n",
    "    \n",
    "    A_coo = sp.triu(A_csr, format='coo') \n",
    "    A_coo.eliminate_zeros()\n",
    "\n",
    "    if k<1: \n",
    "        tot_edges = A_coo.nnz\n",
    "        del_edges = int(round(k * tot_edges))\n",
    "        \n",
    "        zeros = np.zeros(del_edges)\n",
    "        ones = np.ones(tot_edges - del_edges)\n",
    "        mask = np.random.permutation(np.concatenate((zeros, ones), axis=0))\n",
    "               \n",
    "        print(\"k = \", k, \" -> Removing \", del_edges, \" edges out of \", tot_edges, \".\")      \n",
    "   \n",
    "        A_coo.data = A_coo.data * mask\n",
    "\n",
    "        A_coo.eliminate_zeros()\n",
    "        \n",
    "        A_output = A_coo + A_coo.transpose()\n",
    "\n",
    "        A_output = A_output.tocsr() \n",
    "        A_output.setdiag(0)\n",
    "        A_output.eliminate_zeros()    \n",
    "           \n",
    "        return A_output"
   ]
  },
  {
   "cell_type": "code",
   "execution_count": 140,
   "metadata": {},
   "outputs": [
    {
     "name": "stdout",
     "output_type": "stream",
     "text": [
      "(2708, 2708)\n",
      "(2708, 1433)\n",
      "Matrix size =  (2708, 2708)  Number of edges =  5278 \n",
      "\n"
     ]
    }
   ],
   "source": [
    "\n",
    "# Generate random weight matrix NxN\n",
    "A, _, _, _, _, _ = process_data.load_data(\"cora\")\n",
    "N, _ = A.shape\n",
    "print(\"Matrix size = \", A.shape, \" Number of edges = \", scipy.sparse.csr_matrix(A, dtype=np.float32).nnz // 2, \"\\n\")\n",
    "\n",
    "\n",
    "# Convert generated matrix into csr format\n",
    "A_csr = scipy.sparse.csr_matrix(A, dtype=np.float32)\n",
    "\n",
    "# Compute Laplacian of original matrix B\n",
    "laplacian_A_csr = graph.laplacian(A_csr, normalized=True)\n",
    "\n",
    "# Normalization factor\n",
    "norm_factor = np.linalg.norm(laplacian_A_csr.toarray(), 'fro')\n",
    "spectrum = np.linalg.norm(laplacian_A_csr.toarray(), 2)\n",
    "# Scale \n",
    "#h_1 = h * 2.0 / spectrum\n",
    "h_1 = h"
   ]
  },
  {
   "cell_type": "code",
   "execution_count": 141,
   "metadata": {},
   "outputs": [],
   "source": [
    "def cayley_operator(L, r, h, coefficients):\n",
    "    N = L.shape[0]\n",
    "    A = (h*L - 1j*np.identity(N)) @ np.linalg.inv(h*L + 1j*np.identity(N))\n",
    "    AA = np.eye(A.shape[0])\n",
    "    res = np.eye(A.shape[0])*coefficients[0]\n",
    "    for k in range(r):\n",
    "        res = res + 2.0* coefficients[k+1] * (AA @ A).real\n",
    "        AA = AA @ A\n",
    "    return res.real"
   ]
  },
  {
   "cell_type": "code",
   "execution_count": 142,
   "metadata": {},
   "outputs": [
    {
     "name": "stdout",
     "output_type": "stream",
     "text": [
      "k =  0.0  -> Removing 0 edges out of  5278 .\n"
     ]
    },
    {
     "name": "stderr",
     "output_type": "stream",
     "text": [
      "/anaconda3/lib/python3.6/site-packages/scipy/sparse/_index.py:112: SparseEfficiencyWarning: Changing the sparsity structure of a csr_matrix is expensive. lil_matrix is more efficient.\n",
      "  self._set_arrayXarray(i, j, x)\n"
     ]
    },
    {
     "name": "stdout",
     "output_type": "stream",
     "text": [
      "k =  0.05  -> Removing  264  edges out of  5278 .\n"
     ]
    },
    {
     "name": "stderr",
     "output_type": "stream",
     "text": [
      "/anaconda3/lib/python3.6/site-packages/scipy/sparse/_index.py:112: SparseEfficiencyWarning: Changing the sparsity structure of a csr_matrix is expensive. lil_matrix is more efficient.\n",
      "  self._set_arrayXarray(i, j, x)\n"
     ]
    },
    {
     "name": "stdout",
     "output_type": "stream",
     "text": [
      "k =  0.1  -> Removing  528  edges out of  5278 .\n"
     ]
    },
    {
     "name": "stderr",
     "output_type": "stream",
     "text": [
      "/anaconda3/lib/python3.6/site-packages/scipy/sparse/_index.py:112: SparseEfficiencyWarning: Changing the sparsity structure of a csr_matrix is expensive. lil_matrix is more efficient.\n",
      "  self._set_arrayXarray(i, j, x)\n"
     ]
    },
    {
     "name": "stdout",
     "output_type": "stream",
     "text": [
      "k =  0.15000000000000002  -> Removing  792  edges out of  5278 .\n"
     ]
    },
    {
     "name": "stderr",
     "output_type": "stream",
     "text": [
      "/anaconda3/lib/python3.6/site-packages/scipy/sparse/_index.py:112: SparseEfficiencyWarning: Changing the sparsity structure of a csr_matrix is expensive. lil_matrix is more efficient.\n",
      "  self._set_arrayXarray(i, j, x)\n"
     ]
    },
    {
     "name": "stdout",
     "output_type": "stream",
     "text": [
      "k =  0.2  -> Removing  1056  edges out of  5278 .\n"
     ]
    },
    {
     "name": "stderr",
     "output_type": "stream",
     "text": [
      "/anaconda3/lib/python3.6/site-packages/scipy/sparse/_index.py:112: SparseEfficiencyWarning: Changing the sparsity structure of a csr_matrix is expensive. lil_matrix is more efficient.\n",
      "  self._set_arrayXarray(i, j, x)\n"
     ]
    },
    {
     "name": "stdout",
     "output_type": "stream",
     "text": [
      "k =  0.25  -> Removing  1320  edges out of  5278 .\n"
     ]
    },
    {
     "name": "stderr",
     "output_type": "stream",
     "text": [
      "/anaconda3/lib/python3.6/site-packages/scipy/sparse/_index.py:112: SparseEfficiencyWarning: Changing the sparsity structure of a csr_matrix is expensive. lil_matrix is more efficient.\n",
      "  self._set_arrayXarray(i, j, x)\n"
     ]
    },
    {
     "name": "stdout",
     "output_type": "stream",
     "text": [
      "k =  0.30000000000000004  -> Removing  1583  edges out of  5278 .\n"
     ]
    },
    {
     "name": "stderr",
     "output_type": "stream",
     "text": [
      "/anaconda3/lib/python3.6/site-packages/scipy/sparse/_index.py:112: SparseEfficiencyWarning: Changing the sparsity structure of a csr_matrix is expensive. lil_matrix is more efficient.\n",
      "  self._set_arrayXarray(i, j, x)\n"
     ]
    },
    {
     "name": "stdout",
     "output_type": "stream",
     "text": [
      "k =  0.35000000000000003  -> Removing  1847  edges out of  5278 .\n"
     ]
    },
    {
     "name": "stderr",
     "output_type": "stream",
     "text": [
      "/anaconda3/lib/python3.6/site-packages/scipy/sparse/_index.py:112: SparseEfficiencyWarning: Changing the sparsity structure of a csr_matrix is expensive. lil_matrix is more efficient.\n",
      "  self._set_arrayXarray(i, j, x)\n"
     ]
    },
    {
     "name": "stdout",
     "output_type": "stream",
     "text": [
      "k =  0.4  -> Removing  2111  edges out of  5278 .\n"
     ]
    },
    {
     "name": "stderr",
     "output_type": "stream",
     "text": [
      "/anaconda3/lib/python3.6/site-packages/scipy/sparse/_index.py:112: SparseEfficiencyWarning: Changing the sparsity structure of a csr_matrix is expensive. lil_matrix is more efficient.\n",
      "  self._set_arrayXarray(i, j, x)\n"
     ]
    },
    {
     "name": "stdout",
     "output_type": "stream",
     "text": [
      "k =  0.45  -> Removing  2375  edges out of  5278 .\n"
     ]
    },
    {
     "name": "stderr",
     "output_type": "stream",
     "text": [
      "/anaconda3/lib/python3.6/site-packages/scipy/sparse/_index.py:112: SparseEfficiencyWarning: Changing the sparsity structure of a csr_matrix is expensive. lil_matrix is more efficient.\n",
      "  self._set_arrayXarray(i, j, x)\n"
     ]
    },
    {
     "name": "stdout",
     "output_type": "stream",
     "text": [
      "k =  0.5  -> Removing  2639  edges out of  5278 .\n"
     ]
    },
    {
     "name": "stderr",
     "output_type": "stream",
     "text": [
      "/anaconda3/lib/python3.6/site-packages/scipy/sparse/_index.py:112: SparseEfficiencyWarning: Changing the sparsity structure of a csr_matrix is expensive. lil_matrix is more efficient.\n",
      "  self._set_arrayXarray(i, j, x)\n"
     ]
    },
    {
     "name": "stdout",
     "output_type": "stream",
     "text": [
      "k =  0.55  -> Removing  2903  edges out of  5278 .\n"
     ]
    },
    {
     "name": "stderr",
     "output_type": "stream",
     "text": [
      "/anaconda3/lib/python3.6/site-packages/scipy/sparse/_index.py:112: SparseEfficiencyWarning: Changing the sparsity structure of a csr_matrix is expensive. lil_matrix is more efficient.\n",
      "  self._set_arrayXarray(i, j, x)\n"
     ]
    },
    {
     "name": "stdout",
     "output_type": "stream",
     "text": [
      "k =  0.6000000000000001  -> Removing  3167  edges out of  5278 .\n"
     ]
    },
    {
     "name": "stderr",
     "output_type": "stream",
     "text": [
      "/anaconda3/lib/python3.6/site-packages/scipy/sparse/_index.py:112: SparseEfficiencyWarning: Changing the sparsity structure of a csr_matrix is expensive. lil_matrix is more efficient.\n",
      "  self._set_arrayXarray(i, j, x)\n"
     ]
    },
    {
     "name": "stdout",
     "output_type": "stream",
     "text": [
      "k =  0.65  -> Removing  3431  edges out of  5278 .\n"
     ]
    },
    {
     "name": "stderr",
     "output_type": "stream",
     "text": [
      "/anaconda3/lib/python3.6/site-packages/scipy/sparse/_index.py:112: SparseEfficiencyWarning: Changing the sparsity structure of a csr_matrix is expensive. lil_matrix is more efficient.\n",
      "  self._set_arrayXarray(i, j, x)\n"
     ]
    },
    {
     "name": "stdout",
     "output_type": "stream",
     "text": [
      "k =  0.7000000000000001  -> Removing  3695  edges out of  5278 .\n"
     ]
    },
    {
     "name": "stderr",
     "output_type": "stream",
     "text": [
      "/anaconda3/lib/python3.6/site-packages/scipy/sparse/_index.py:112: SparseEfficiencyWarning: Changing the sparsity structure of a csr_matrix is expensive. lil_matrix is more efficient.\n",
      "  self._set_arrayXarray(i, j, x)\n"
     ]
    },
    {
     "name": "stdout",
     "output_type": "stream",
     "text": [
      "k =  0.75  -> Removing  3958  edges out of  5278 .\n"
     ]
    },
    {
     "name": "stderr",
     "output_type": "stream",
     "text": [
      "/anaconda3/lib/python3.6/site-packages/scipy/sparse/_index.py:112: SparseEfficiencyWarning: Changing the sparsity structure of a csr_matrix is expensive. lil_matrix is more efficient.\n",
      "  self._set_arrayXarray(i, j, x)\n"
     ]
    },
    {
     "name": "stdout",
     "output_type": "stream",
     "text": [
      "k =  0.8  -> Removing  4222  edges out of  5278 .\n"
     ]
    },
    {
     "name": "stderr",
     "output_type": "stream",
     "text": [
      "/anaconda3/lib/python3.6/site-packages/scipy/sparse/_index.py:112: SparseEfficiencyWarning: Changing the sparsity structure of a csr_matrix is expensive. lil_matrix is more efficient.\n",
      "  self._set_arrayXarray(i, j, x)\n"
     ]
    },
    {
     "name": "stdout",
     "output_type": "stream",
     "text": [
      "k =  0.8500000000000001  -> Removing  4486  edges out of  5278 .\n"
     ]
    },
    {
     "name": "stderr",
     "output_type": "stream",
     "text": [
      "/anaconda3/lib/python3.6/site-packages/scipy/sparse/_index.py:112: SparseEfficiencyWarning: Changing the sparsity structure of a csr_matrix is expensive. lil_matrix is more efficient.\n",
      "  self._set_arrayXarray(i, j, x)\n"
     ]
    },
    {
     "name": "stdout",
     "output_type": "stream",
     "text": [
      "k =  0.9  -> Removing  4750  edges out of  5278 .\n",
      "Execution time: 1353.36s\n"
     ]
    }
   ],
   "source": [
    "random_level = np.arange(0, 0.95, 0.05)\n",
    "L_dif_1 = []\n",
    "G_dif_1 = []\n",
    "t_start = time.time()\n",
    "low_a = cayley_operator(laplacian_A_csr.toarray(), 12, 2.0, coefficients_low)\n",
    "middle_a = cayley_operator(laplacian_A_csr.toarray(), 12, 1.0, coefficients_middle)\n",
    "high_a = cayley_operator(laplacian_A_csr.toarray(), 12, 1.1, coefficients_high)\n",
    "for level in random_level:\n",
    "    A_prime = remove_random_edges(A, level)\n",
    "    L_prime = graph.laplacian(A_prime, normalized=True)\n",
    "    L_dif_1.append(np.linalg.norm(laplacian_A_csr.toarray() - L_prime.toarray(), 'fro') / norm_factor)\n",
    "    low_b = cayley_operator(L_prime.toarray(), 12, 2.0, coefficients_low)\n",
    "    middle_b = cayley_operator(L_prime.toarray(), 12, 1.0, coefficients_middle)\n",
    "    high_b = cayley_operator(L_prime.toarray(), 12, 1.1, coefficients_high)\n",
    "    G_dif_1.append([np.linalg.norm(low_a-low_b,'fro')/norm_factor, np.linalg.norm(middle_a-middle_b,'fro')/norm_factor, np.linalg.norm(high_a-high_b,'fro')/norm_factor])  \n",
    "G_dif_1 = np.array(G_dif_1)    \n",
    "print('Execution time: {:.2f}s'.format(time.time() - t_start))"
   ]
  },
  {
   "cell_type": "code",
   "execution_count": 143,
   "metadata": {},
   "outputs": [
    {
     "data": {
      "image/png": "[encoded data removed]",
      "text/plain": [
       "<Figure size 432x288 with 1 Axes>"
      ]
     },
     "metadata": {
      "needs_background": "light"
     },
     "output_type": "display_data"
    }
   ],
   "source": [
    "plt.plot(random_level, L_dif_1)\n",
    "plt.ylabel('relative difference of Laplacian')\n",
    "plt.xlabel('Random level')\n",
    "plt.title('Randomly delete edges')\n",
    "plt.show()"
   ]
  },
  {
   "cell_type": "code",
   "execution_count": 144,
   "metadata": {},
   "outputs": [
    {
     "data": {
      "text/plain": [
       "0.0"
      ]
     },
     "execution_count": 144,
     "metadata": {},
     "output_type": "execute_result"
    }
   ],
   "source": [
    "G_dif_1[0,0]"
   ]
  },
  {
   "cell_type": "code",
   "execution_count": 145,
   "metadata": {},
   "outputs": [
    {
     "data": {
      "image/png": "[encoded data removed]",
      "text/plain": [
       "<Figure size 432x288 with 1 Axes>"
      ]
     },
     "metadata": {
      "needs_background": "light"
     },
     "output_type": "display_data"
    }
   ],
   "source": [
    "xp = np.linspace(0, 0.5, 100)\n",
    "p1 = np.poly1d(np.polyfit(L_dif_1, G_dif_1[:,0], 1))\n",
    "plt.plot(L_dif_1, G_dif_1[:,0], '.', xp, p1(xp), '-')\n",
    "plt.ylabel('relative difference of low pass filter')\n",
    "plt.xlabel('relative difference of Laplacian')\n",
    "plt.title('Randomly delete edges')\n",
    "plt.show()"
   ]
  },
  {
   "cell_type": "code",
   "execution_count": 146,
   "metadata": {},
   "outputs": [
    {
     "data": {
      "image/png": "[encoded data removed]",
      "text/plain": [
       "<Figure size 432x288 with 1 Axes>"
      ]
     },
     "metadata": {
      "needs_background": "light"
     },
     "output_type": "display_data"
    }
   ],
   "source": [
    "xp = np.linspace(0, 0.5, 100)\n",
    "p1 = np.poly1d(np.polyfit(L_dif_1, G_dif_1[:,1], 1))\n",
    "plt.plot(L_dif_1, G_dif_1[:,1], '.', xp, p1(xp), '-')\n",
    "plt.ylabel('relative difference of middle pass filter')\n",
    "plt.xlabel('relative difference of Laplacian')\n",
    "\n",
    "plt.title('Randomly delete edges')\n",
    "plt.show()"
   ]
  },
  {
   "cell_type": "code",
   "execution_count": 147,
   "metadata": {},
   "outputs": [
    {
     "data": {
      "image/png": "[encoded data removed]",
      "text/plain": [
       "<Figure size 432x288 with 1 Axes>"
      ]
     },
     "metadata": {
      "needs_background": "light"
     },
     "output_type": "display_data"
    }
   ],
   "source": [
    "xp = np.linspace(0, 0.5, 100)\n",
    "p1 = np.poly1d(np.polyfit(L_dif_1, G_dif_1[:,2], 1))\n",
    "plt.plot(L_dif_1, G_dif_1[:,2], '.', xp, p1(xp)-0.02, '-')\n",
    "\n",
    "plt.ylabel('relative difference of high pass filter')\n",
    "\n",
    "plt.xlabel('relative difference of Laplacian')\n",
    "plt.title('Randomly delete edges')\n",
    "plt.show()"
   ]
  },
  {
   "cell_type": "code",
   "execution_count": 129,
   "metadata": {},
   "outputs": [],
   "source": [
    "##########################\n",
    "###                    ###\n",
    "###   PERTURBATION 2   ###\n",
    "###                    ###\n",
    "##########################\n",
    "\n",
    "\n",
    "def add_random_edges(A, k):\n",
    "    \"\"\"This function adds fraction k of graph edges.\"\"\"\n",
    "    \n",
    "    if k<0:\n",
    "        print(\"k must be positive.\")\n",
    "        return\n",
    "    \n",
    "    if k>1:\n",
    "        print(\"k must be <=1.\")\n",
    "        return\n",
    "    \n",
    "    if k==0:\n",
    "        A_tilde = sp.csr_matrix(A, dtype=np.float32)\n",
    "        A_tilde.eliminate_zeros()\n",
    "        print(\"k = \", k, \" -> Adding 0 edges out of \", A_tilde.nnz // 2, \".\")\n",
    "        return A_tilde\n",
    "    \n",
    "    if k==1:\n",
    "        M, M = A.shape\n",
    "        A_tilde = np.ones((M,M))\n",
    "        A_tilde = sp.csr_matrix(A_tilde, dtype=np.float32)\n",
    "        A_tilde.eliminate_zeros()\n",
    "        print(\"k = \", k, \" -> Adding all missing edges.\")\n",
    "        return A_tilde\n",
    "    \n",
    "    \n",
    "    A_csr = sp.csr_matrix(A, dtype=np.float32)\n",
    "    A_csr.setdiag(0)\n",
    "    A_csr.eliminate_zeros()\n",
    "    \n",
    "    A_coo = sp.triu(A_csr, format='coo') \n",
    "    A_coo.eliminate_zeros()\n",
    "    \n",
    "    \n",
    "    if k<1:\n",
    "        M, M = A.shape\n",
    "\n",
    "        mask = np.triu(np.ones((M,M)), k=1) # k=1 means that non-zeros are only above main diagonal\n",
    "        mask_coo = sp.coo_matrix(mask)     \n",
    "        mask_coo = mask_coo - A_coo    \n",
    "        mask_coo.eliminate_zeros()\n",
    "        #print(mask_coo) #.toarray().astype(int)\n",
    "        \n",
    "        missing_edges = mask_coo.nnz\n",
    "        add_edges = int(round(k * 5278))\n",
    "        \n",
    "        print(\"k = \", k, \" -> Adding \", add_edges, \" edges out of \", missing_edges, \" missing.\")\n",
    "         \n",
    "        zeros = np.zeros(add_edges)\n",
    "        ones = np.ones(missing_edges - add_edges)\n",
    "        filter_mask = np.random.permutation(np.concatenate((zeros, ones), axis=0))\n",
    "        \n",
    "        mask_coo.data = mask_coo.data - filter_mask\n",
    "        mask_coo.eliminate_zeros()\n",
    "        \n",
    "        A_augmented_coo = A_coo + mask_coo\n",
    "        \n",
    "        A_output = A_augmented_coo + A_augmented_coo.transpose()\n",
    "        \n",
    "        #print(A_output.toarray().astype(int))     \n",
    "   \n",
    "        A_output = A_output.tocsr() \n",
    "        A_output.setdiag(0)\n",
    "        A_output.eliminate_zeros()    \n",
    "           \n",
    "        return A_output"
   ]
  },
  {
   "cell_type": "code",
   "execution_count": 130,
   "metadata": {},
   "outputs": [
    {
     "name": "stdout",
     "output_type": "stream",
     "text": [
      "(2708, 2708)\n",
      "(2708, 1433)\n",
      "Matrix size =  (2708, 2708)  Number of edges =  5278 \n",
      "\n"
     ]
    }
   ],
   "source": [
    "# Generate random weight matrix NxN\n",
    "\n",
    "# Generate random weight matrix NxN\n",
    "A, _, _, _, _, _ = process_data.load_data(\"cora\")\n",
    "N, _ = A.shape\n",
    "print(\"Matrix size = \", A.shape, \" Number of edges = \", scipy.sparse.csr_matrix(A, dtype=np.float32).nnz // 2, \"\\n\")\n",
    "\n",
    "\n",
    "# Convert generated matrix into csr format\n",
    "A_csr = scipy.sparse.csr_matrix(A, dtype=np.float32)\n",
    "\n",
    "# Compute Laplacian of original matrix B\n",
    "laplacian_A_csr = graph.laplacian(A_csr, normalized=True)\n",
    "\n",
    "# Normalization factor\n",
    "norm_factor = np.linalg.norm(laplacian_A_csr.toarray(), 'fro')\n",
    "# Scale \n",
    "#h_1 = h * 2.0 / norm_factor\n",
    "h_2 = h"
   ]
  },
  {
   "cell_type": "code",
   "execution_count": 131,
   "metadata": {},
   "outputs": [
    {
     "name": "stdout",
     "output_type": "stream",
     "text": [
      "k =  0.0  -> Adding 0 edges out of  5278 .\n"
     ]
    },
    {
     "name": "stderr",
     "output_type": "stream",
     "text": [
      "/anaconda3/lib/python3.6/site-packages/scipy/sparse/_index.py:112: SparseEfficiencyWarning: Changing the sparsity structure of a csr_matrix is expensive. lil_matrix is more efficient.\n",
      "  self._set_arrayXarray(i, j, x)\n"
     ]
    },
    {
     "name": "stdout",
     "output_type": "stream",
     "text": [
      "k =  0.05  -> Adding  264  edges out of  3660000  missing.\n"
     ]
    },
    {
     "name": "stderr",
     "output_type": "stream",
     "text": [
      "/anaconda3/lib/python3.6/site-packages/scipy/sparse/_index.py:112: SparseEfficiencyWarning: Changing the sparsity structure of a csr_matrix is expensive. lil_matrix is more efficient.\n",
      "  self._set_arrayXarray(i, j, x)\n"
     ]
    },
    {
     "name": "stdout",
     "output_type": "stream",
     "text": [
      "k =  0.1  -> Adding  528  edges out of  3660000  missing.\n"
     ]
    },
    {
     "name": "stderr",
     "output_type": "stream",
     "text": [
      "/anaconda3/lib/python3.6/site-packages/scipy/sparse/_index.py:112: SparseEfficiencyWarning: Changing the sparsity structure of a csr_matrix is expensive. lil_matrix is more efficient.\n",
      "  self._set_arrayXarray(i, j, x)\n"
     ]
    },
    {
     "name": "stdout",
     "output_type": "stream",
     "text": [
      "k =  0.15000000000000002  -> Adding  792  edges out of  3660000  missing.\n"
     ]
    },
    {
     "name": "stderr",
     "output_type": "stream",
     "text": [
      "/anaconda3/lib/python3.6/site-packages/scipy/sparse/_index.py:112: SparseEfficiencyWarning: Changing the sparsity structure of a csr_matrix is expensive. lil_matrix is more efficient.\n",
      "  self._set_arrayXarray(i, j, x)\n"
     ]
    },
    {
     "name": "stdout",
     "output_type": "stream",
     "text": [
      "k =  0.2  -> Adding  1056  edges out of  3660000  missing.\n"
     ]
    },
    {
     "name": "stderr",
     "output_type": "stream",
     "text": [
      "/anaconda3/lib/python3.6/site-packages/scipy/sparse/_index.py:112: SparseEfficiencyWarning: Changing the sparsity structure of a csr_matrix is expensive. lil_matrix is more efficient.\n",
      "  self._set_arrayXarray(i, j, x)\n"
     ]
    },
    {
     "name": "stdout",
     "output_type": "stream",
     "text": [
      "k =  0.25  -> Adding  1320  edges out of  3660000  missing.\n"
     ]
    },
    {
     "name": "stderr",
     "output_type": "stream",
     "text": [
      "/anaconda3/lib/python3.6/site-packages/scipy/sparse/_index.py:112: SparseEfficiencyWarning: Changing the sparsity structure of a csr_matrix is expensive. lil_matrix is more efficient.\n",
      "  self._set_arrayXarray(i, j, x)\n"
     ]
    },
    {
     "name": "stdout",
     "output_type": "stream",
     "text": [
      "k =  0.30000000000000004  -> Adding  1583  edges out of  3660000  missing.\n"
     ]
    },
    {
     "name": "stderr",
     "output_type": "stream",
     "text": [
      "/anaconda3/lib/python3.6/site-packages/scipy/sparse/_index.py:112: SparseEfficiencyWarning: Changing the sparsity structure of a csr_matrix is expensive. lil_matrix is more efficient.\n",
      "  self._set_arrayXarray(i, j, x)\n"
     ]
    },
    {
     "name": "stdout",
     "output_type": "stream",
     "text": [
      "k =  0.35000000000000003  -> Adding  1847  edges out of  3660000  missing.\n"
     ]
    },
    {
     "name": "stderr",
     "output_type": "stream",
     "text": [
      "/anaconda3/lib/python3.6/site-packages/scipy/sparse/_index.py:112: SparseEfficiencyWarning: Changing the sparsity structure of a csr_matrix is expensive. lil_matrix is more efficient.\n",
      "  self._set_arrayXarray(i, j, x)\n"
     ]
    },
    {
     "name": "stdout",
     "output_type": "stream",
     "text": [
      "k =  0.4  -> Adding  2111  edges out of  3660000  missing.\n"
     ]
    },
    {
     "name": "stderr",
     "output_type": "stream",
     "text": [
      "/anaconda3/lib/python3.6/site-packages/scipy/sparse/_index.py:112: SparseEfficiencyWarning: Changing the sparsity structure of a csr_matrix is expensive. lil_matrix is more efficient.\n",
      "  self._set_arrayXarray(i, j, x)\n"
     ]
    },
    {
     "name": "stdout",
     "output_type": "stream",
     "text": [
      "k =  0.45  -> Adding  2375  edges out of  3660000  missing.\n"
     ]
    },
    {
     "name": "stderr",
     "output_type": "stream",
     "text": [
      "/anaconda3/lib/python3.6/site-packages/scipy/sparse/_index.py:112: SparseEfficiencyWarning: Changing the sparsity structure of a csr_matrix is expensive. lil_matrix is more efficient.\n",
      "  self._set_arrayXarray(i, j, x)\n"
     ]
    },
    {
     "name": "stdout",
     "output_type": "stream",
     "text": [
      "k =  0.5  -> Adding  2639  edges out of  3660000  missing.\n"
     ]
    },
    {
     "name": "stderr",
     "output_type": "stream",
     "text": [
      "/anaconda3/lib/python3.6/site-packages/scipy/sparse/_index.py:112: SparseEfficiencyWarning: Changing the sparsity structure of a csr_matrix is expensive. lil_matrix is more efficient.\n",
      "  self._set_arrayXarray(i, j, x)\n"
     ]
    },
    {
     "name": "stdout",
     "output_type": "stream",
     "text": [
      "k =  0.55  -> Adding  2903  edges out of  3660000  missing.\n"
     ]
    },
    {
     "name": "stderr",
     "output_type": "stream",
     "text": [
      "/anaconda3/lib/python3.6/site-packages/scipy/sparse/_index.py:112: SparseEfficiencyWarning: Changing the sparsity structure of a csr_matrix is expensive. lil_matrix is more efficient.\n",
      "  self._set_arrayXarray(i, j, x)\n"
     ]
    },
    {
     "name": "stdout",
     "output_type": "stream",
     "text": [
      "k =  0.6000000000000001  -> Adding  3167  edges out of  3660000  missing.\n"
     ]
    },
    {
     "name": "stderr",
     "output_type": "stream",
     "text": [
      "/anaconda3/lib/python3.6/site-packages/scipy/sparse/_index.py:112: SparseEfficiencyWarning: Changing the sparsity structure of a csr_matrix is expensive. lil_matrix is more efficient.\n",
      "  self._set_arrayXarray(i, j, x)\n"
     ]
    },
    {
     "name": "stdout",
     "output_type": "stream",
     "text": [
      "k =  0.65  -> Adding  3431  edges out of  3660000  missing.\n"
     ]
    },
    {
     "name": "stderr",
     "output_type": "stream",
     "text": [
      "/anaconda3/lib/python3.6/site-packages/scipy/sparse/_index.py:112: SparseEfficiencyWarning: Changing the sparsity structure of a csr_matrix is expensive. lil_matrix is more efficient.\n",
      "  self._set_arrayXarray(i, j, x)\n"
     ]
    },
    {
     "name": "stdout",
     "output_type": "stream",
     "text": [
      "k =  0.7000000000000001  -> Adding  3695  edges out of  3660000  missing.\n"
     ]
    },
    {
     "name": "stderr",
     "output_type": "stream",
     "text": [
      "/anaconda3/lib/python3.6/site-packages/scipy/sparse/_index.py:112: SparseEfficiencyWarning: Changing the sparsity structure of a csr_matrix is expensive. lil_matrix is more efficient.\n",
      "  self._set_arrayXarray(i, j, x)\n"
     ]
    },
    {
     "name": "stdout",
     "output_type": "stream",
     "text": [
      "k =  0.75  -> Adding  3958  edges out of  3660000  missing.\n"
     ]
    },
    {
     "name": "stderr",
     "output_type": "stream",
     "text": [
      "/anaconda3/lib/python3.6/site-packages/scipy/sparse/_index.py:112: SparseEfficiencyWarning: Changing the sparsity structure of a csr_matrix is expensive. lil_matrix is more efficient.\n",
      "  self._set_arrayXarray(i, j, x)\n"
     ]
    },
    {
     "name": "stdout",
     "output_type": "stream",
     "text": [
      "k =  0.8  -> Adding  4222  edges out of  3660000  missing.\n"
     ]
    },
    {
     "name": "stderr",
     "output_type": "stream",
     "text": [
      "/anaconda3/lib/python3.6/site-packages/scipy/sparse/_index.py:112: SparseEfficiencyWarning: Changing the sparsity structure of a csr_matrix is expensive. lil_matrix is more efficient.\n",
      "  self._set_arrayXarray(i, j, x)\n"
     ]
    },
    {
     "name": "stdout",
     "output_type": "stream",
     "text": [
      "k =  0.8500000000000001  -> Adding  4486  edges out of  3660000  missing.\n"
     ]
    },
    {
     "name": "stderr",
     "output_type": "stream",
     "text": [
      "/anaconda3/lib/python3.6/site-packages/scipy/sparse/_index.py:112: SparseEfficiencyWarning: Changing the sparsity structure of a csr_matrix is expensive. lil_matrix is more efficient.\n",
      "  self._set_arrayXarray(i, j, x)\n"
     ]
    },
    {
     "name": "stdout",
     "output_type": "stream",
     "text": [
      "k =  0.9  -> Adding  4750  edges out of  3660000  missing.\n",
      "Execution time: 1458.38s\n"
     ]
    }
   ],
   "source": [
    "random_level = np.arange(0, 0.95, 0.05)\n",
    "L_dif_2 = []\n",
    "G_dif_2 = []\n",
    "t_start = time.time()\n",
    "low_a = cayley_operator(laplacian_A_csr.toarray(), 12, 2.0, coefficients_low)\n",
    "middle_a = cayley_operator(laplacian_A_csr.toarray(), 12, 1.0, coefficients_middle)\n",
    "high_a = cayley_operator(laplacian_A_csr.toarray(), 12, 1.1, coefficients_high)\n",
    "for level in random_level:\n",
    "    A_prime = add_random_edges(A, level)\n",
    "    L_prime = graph.laplacian(A_prime, normalized=True)\n",
    "    L_dif_2.append(np.linalg.norm(laplacian_A_csr.toarray() - L_prime.toarray(), 'fro') / norm_factor)\n",
    "    low_b = cayley_operator(L_prime.toarray(), 12, 2.0, coefficients_low)\n",
    "    middle_b = cayley_operator(L_prime.toarray(), 12, 1.0, coefficients_middle)\n",
    "    high_b = cayley_operator(L_prime.toarray(), 12, 1.1, coefficients_high)\n",
    "    G_dif_2.append([np.linalg.norm(low_a-low_b,'fro')/norm_factor, np.linalg.norm(middle_a-middle_b,'fro')/norm_factor, np.linalg.norm(high_a-high_b,'fro')/norm_factor])  \n",
    "G_dif_2 = np.array(G_dif_2)    \n",
    "print('Execution time: {:.2f}s'.format(time.time() - t_start))"
   ]
  },
  {
   "cell_type": "code",
   "execution_count": 132,
   "metadata": {},
   "outputs": [
    {
     "data": {
      "image/png": "[encoded data removed]",
      "text/plain": [
       "<Figure size 432x288 with 1 Axes>"
      ]
     },
     "metadata": {
      "needs_background": "light"
     },
     "output_type": "display_data"
    }
   ],
   "source": [
    "plt.plot(random_level, L_dif_2)\n",
    "plt.ylabel('relative difference of Laplacian')\n",
    "plt.xlabel('Random level')\n",
    "plt.title('Randomly add edges')\n",
    "plt.show()"
   ]
  },
  {
   "cell_type": "code",
   "execution_count": 133,
   "metadata": {},
   "outputs": [
    {
     "data": {
      "image/png": "[encoded data removed]",
      "text/plain": [
       "<Figure size 432x288 with 1 Axes>"
      ]
     },
     "metadata": {
      "needs_background": "light"
     },
     "output_type": "display_data"
    }
   ],
   "source": [
    "xp = np.linspace(0, .4, 100)\n",
    "p1 = np.poly1d(np.polyfit(L_dif_2, G_dif_2[:,0], 1))\n",
    "plt.plot(L_dif_2, G_dif_2[:,0], '.', xp, p1(xp), '-')\n",
    "plt.ylabel('relative difference of low pass filter')\n",
    "plt.xlabel('relative difference of Laplacian')\n",
    "plt.title('Randomly add edges')\n",
    "plt.show()"
   ]
  },
  {
   "cell_type": "code",
   "execution_count": 134,
   "metadata": {},
   "outputs": [
    {
     "data": {
      "image/png": "[encoded data removed]",
      "text/plain": [
       "<Figure size 432x288 with 1 Axes>"
      ]
     },
     "metadata": {
      "needs_background": "light"
     },
     "output_type": "display_data"
    }
   ],
   "source": [
    "xp = np.linspace(0, .4, 100)\n",
    "p1 = np.poly1d(np.polyfit(L_dif_2, G_dif_2[:,1], 1))\n",
    "plt.plot(L_dif_2, G_dif_2[:,1], '.', xp, p1(xp), '-')\n",
    "plt.ylabel('relative difference of middle pass filter')\n",
    "plt.xlabel('relative difference of Laplacian')\n",
    "plt.title('Randomly add edges')\n",
    "plt.show()"
   ]
  },
  {
   "cell_type": "code",
   "execution_count": 135,
   "metadata": {},
   "outputs": [
    {
     "data": {
      "image/png": "[encoded data removed]",
      "text/plain": [
       "<Figure size 432x288 with 1 Axes>"
      ]
     },
     "metadata": {
      "needs_background": "light"
     },
     "output_type": "display_data"
    }
   ],
   "source": [
    "xp = np.linspace(0, .4, 100)\n",
    "p1 = np.poly1d(np.polyfit(L_dif_2, G_dif_2[:,2], 1))\n",
    "plt.plot(L_dif_2, G_dif_2[:,2], '.', xp, p1(xp), '-')\n",
    "plt.ylabel('relative difference of high pass filter')\n",
    "plt.xlabel('relative difference of Laplacian')\n",
    "plt.title('Randomly add edges')\n",
    "plt.show()"
   ]
  },
  {
   "cell_type": "code",
   "execution_count": 2,
   "metadata": {},
   "outputs": [
    {
     "data": {
      "image/png": "[encoded data removed]",
      "text/plain": [
       "<Figure size 432x288 with 1 Axes>"
      ]
     },
     "metadata": {
      "needs_background": "light"
     },
     "output_type": "display_data"
    }
   ],
   "source": [
    "#############\n",
    "### LATEX ###\n",
    "#############\n",
    "L_dif_1 = np.loadtxt('l_dif_1.txt')\n",
    "L_dif_2 = np.loadtxt('l_dif_2.txt')\n",
    "G_dif_1 = np.loadtxt('g_dif_1.txt')\n",
    "G_dif_2 = np.loadtxt('g_dif_2.txt')\n",
    "L_dif_1 = np.asarray(L_dif_1)\n",
    "L_dif_2 = np.asarray(L_dif_2)\n",
    "G_dif_1 = np.asarray(G_dif_1)\n",
    "G_dif_2 = np.asarray(G_dif_2)\n",
    "\n",
    "plt.plot(L_dif_1, G_dif_1[:,0], 'r')\n",
    "plt.scatter(L_dif_1, G_dif_1[:,0], c='r', s=10)\n",
    "\n",
    "\n",
    "plt.plot(L_dif_1, G_dif_1[:,1], 'b')\n",
    "plt.scatter(L_dif_1, G_dif_1[:,1], c='b', s=10)\n",
    "\n",
    "\n",
    "plt.plot(L_dif_1, G_dif_1[:,2], 'g')\n",
    "plt.scatter(L_dif_1, G_dif_1[:,2], c='g', s=10)\n",
    "\n",
    "\n",
    "\n",
    "\n",
    "labels = [\"0%\", \"5%\", \"10%\", \"15%\", \"20%\", \"25%\", \"30%\", \"35%\", \"40%\", \"45%\", \"50%\", \"55%\", \"60%\", \"65%\", \"70%\", \"75%\", \"80%\", \"85%\", \"90%\"]\n",
    "\n",
    "i=0\n",
    "for x,y in zip(L_dif_1, G_dif_1[:,1]):\n",
    "    \n",
    "    label = labels[i]\n",
    "    i = i+1\n",
    "    \n",
    "    if i in [0, 1, 2, 3, 4, 6, 8, 10, 12, 14, 16]:\n",
    "        plt.annotate(label, # this is the text\n",
    "                     (x,y), # this is the point to label\n",
    "                     textcoords=\"offset points\", # how to position the text\n",
    "                     xytext=(0,10), # distance from text to points (x,y)\n",
    "                     ha='center') # horizontal alignment can be left, right or center\n",
    "\n",
    "\n",
    "i=0\n",
    "for x,y in zip(L_dif_1, G_dif_1[:,0]):\n",
    "    \n",
    "    label = labels[i]\n",
    "    i = i+1\n",
    "    \n",
    "    if i in [2, 3, 5, 7, 9, 11, 13, 15, 17]:\n",
    "        plt.annotate(label, # this is the text\n",
    "                     (x,y), # this is the point to label\n",
    "                     textcoords=\"offset points\", # how to position the text\n",
    "                     xytext=(0,-20), # distance from text to points (x,y)\n",
    "                     ha='center') # horizontal alignment can be left, right or center\n",
    "\n",
    "\n",
    "legend = [\"Low pass\", \"Mid pass\", \"High pass\"]\n",
    "\n",
    "plt.ylabel('Filter Error')\n",
    "plt.xlabel('Laplacian Error')\n",
    "plt.legend(legend)\n",
    "#plt.title('(a)')\n",
    "plt.savefig(\"./linear_stability_1.pdf\", format='pdf')\n",
    "plt.show()\n"
   ]
  },
  {
   "cell_type": "code",
   "execution_count": 3,
   "metadata": {},
   "outputs": [
    {
     "data": {
      "image/png": "[encoded data removed]",
      "text/plain": [
       "<Figure size 432x288 with 1 Axes>"
      ]
     },
     "metadata": {
      "needs_background": "light"
     },
     "output_type": "display_data"
    }
   ],
   "source": [
    "#############\n",
    "### LATEX ###\n",
    "#############\n",
    "\n",
    "plt.plot(L_dif_2, G_dif_2[:,0], 'r')\n",
    "plt.scatter(L_dif_2, G_dif_2[:,0], c='r', s=10)\n",
    "\n",
    "\n",
    "plt.plot(L_dif_2, G_dif_2[:,1], 'b')\n",
    "plt.scatter(L_dif_2, G_dif_2[:,1], c='b', s=10)\n",
    "\n",
    "\n",
    "plt.plot(L_dif_2, G_dif_2[:,2], 'g')\n",
    "plt.scatter(L_dif_2, G_dif_2[:,2], c='g', s=10)\n",
    "\n",
    "\n",
    "labels = [\"0%\", \"5%\", \"10%\", \"15%\", \"20%\", \"25%\", \"30%\", \"35%\", \"40%\", \"45%\", \"50%\", \"55%\", \"60%\", \"65%\", \"70%\", \"75%\", \"80%\", \"85%\", \"90%\"]\n",
    "\n",
    "i=0\n",
    "for x,y in zip(L_dif_2, G_dif_2[:,1]):\n",
    "    \n",
    "    label = labels[i]\n",
    "    i = i+1\n",
    "    \n",
    "    if i in [0, 1, 2, 3, 4, 6, 8, 10, 14]:\n",
    "        plt.annotate(label, # this is the text\n",
    "                     (x,y), # this is the point to label\n",
    "                     textcoords=\"offset points\", # how to position the text\n",
    "                     xytext=(0,10), # distance from text to points (x,y)\n",
    "                     ha='center') # horizontal alignment can be left, right or center\n",
    "\n",
    "\n",
    "i=0\n",
    "for x,y in zip(L_dif_2, G_dif_2[:,0]):\n",
    "    \n",
    "    label = labels[i]\n",
    "    i = i+1\n",
    "    \n",
    "    if i in [2, 3, 5, 7, 9, 13, 17]:\n",
    "        plt.annotate(label, # this is the text\n",
    "                     (x,y), # this is the point to label\n",
    "                     textcoords=\"offset points\", # how to position the text\n",
    "                     xytext=(0,-20), # distance from text to points (x,y)\n",
    "                     ha='center') # horizontal alignment can be left, right or center\n",
    "\n",
    "\n",
    "\n",
    "\n",
    "legend = [\"Low pass\", \"Mid pass\", \"High pass\"]\n",
    "\n",
    "plt.ylabel('Filter Error')\n",
    "plt.xlabel('Laplacian Error')\n",
    "plt.legend(legend)\n",
    "#plt.title('(b)')\n",
    "plt.savefig(\"./linear_stability_2.pdf\", format='pdf')\n",
    "plt.show()\n"
   ]
  },
  {
   "cell_type": "code",
   "execution_count": 150,
   "metadata": {},
   "outputs": [],
   "source": [
    "L_dif_1 = np.array(L_dif_1)\n",
    "L_dif_2 = np.array(L_dif_2)\n",
    "G_dif_1 = np.array(G_dif_1)\n",
    "G_dif_2 = np.array(G_dif_2)\n",
    "np.savetxt('l_dif_1.txt', L_dif_1)\n",
    "np.savetxt('l_dif_2.txt', L_dif_2)\n",
    "np.savetxt('g_dif_1.txt', G_dif_1)\n",
    "np.savetxt('g_dif_2.txt', G_dif_2)"
   ]
  },
  {
   "cell_type": "code",
   "execution_count": 46,
   "metadata": {},
   "outputs": [
    {
     "data": {
      "image/png": "[encoded data removed]",
      "text/plain": [
       "<Figure size 432x288 with 1 Axes>"
      ]
     },
     "metadata": {
      "needs_background": "light"
     },
     "output_type": "display_data"
    }
   ],
   "source": [
    "#############\n",
    "### LATEX ###\n",
    "#############\n",
    "L_dif_1 = np.loadtxt('l_dif_1.txt')\n",
    "L_dif_2 = np.loadtxt('l_dif_2.txt')\n",
    "G_dif_1 = np.loadtxt('g_dif_1.txt')\n",
    "G_dif_2 = np.loadtxt('g_dif_2.txt')\n",
    "L_dif_1 = np.asarray(L_dif_1)\n",
    "L_dif_2 = np.asarray(L_dif_2)\n",
    "G_dif_1 = np.asarray(G_dif_1)\n",
    "G_dif_2 = np.asarray(G_dif_2)\n",
    "\n",
    "xp = np.linspace(0, 0.5, 100)\n",
    "p1 = np.poly1d(np.polyfit(L_dif_1, G_dif_1[:,0], 1))\n",
    "\n",
    "\n",
    "L_dif_2 = np.asarray(L_dif_2)\n",
    "\n",
    "\n",
    "plt.plot(L_dif_2, G_dif_2[:,0], 'r')\n",
    "plt.scatter(L_dif_2[1::5], G_dif_2[1::5,0], c='r', s=10)\n",
    "\n",
    "\n",
    "plt.plot(L_dif_2, G_dif_2[:,1], 'b')\n",
    "plt.scatter(L_dif_2[1::5], G_dif_2[1::5,1], c='b', s=10)\n",
    "\n",
    "\n",
    "plt.plot(L_dif_2, G_dif_2[:,2], 'g')\n",
    "plt.scatter(L_dif_2[1::5], G_dif_2[1::5,2], c='g', s=10)\n",
    "\n",
    "\n",
    "labels = [\"5%\", \"10%\", \"15%\", \"20%\", \"25%\", \"30%\", \"35%\", \"40%\", \"45%\", \"50%\", \"55%\", \"60%\", \"65%\", \"70%\", \"75%\", \"80%\", \"85%\", \"90%\"]\n",
    "\n",
    "i=0\n",
    "for x,y in zip(L_dif_2[1::5], G_dif_2[1::5,1]):\n",
    "\n",
    "    label = labels[i]\n",
    "    i = i+1\n",
    "\n",
    "    if i in [0, 1, 2, 4, 6, 8, 10, 14]:\n",
    "        plt.annotate(label, # this is the text\n",
    "                     (x,y), # this is the point to label\n",
    "                     textcoords=\"offset points\", # how to position the text\n",
    "                     xytext=(0,12), # distance from text to points (x,y)\n",
    "                     ha='center') # horizontal alignment can be left, right or center\n",
    "        \n",
    "\n",
    "i=0      \n",
    "for x,y in zip(L_dif_2[1::5], G_dif_2[1::5,0]):\n",
    "\n",
    "    label = labels[i]\n",
    "    i = i+1\n",
    "\n",
    "    if i in [3, 5, 7, 9, 13, 17]:\n",
    "        plt.annotate(label, # this is the text\n",
    "                     (x,y), # this is the point to label\n",
    "                     textcoords=\"offset points\", # how to position the text\n",
    "                     xytext=(0,10), # distance from text to points (x,y)\n",
    "                     ha='center') # horizontal alignment can be left, right or center\n",
    "\n",
    "\n",
    "\n",
    "\n",
    "legend = [\"Low pass\", \"Mid pass\", \"High pass\"]\n",
    "\n",
    "plt.ylabel('Filter Error')\n",
    "plt.xlabel('Laplacian Error')\n",
    "plt.legend(legend)\n",
    "#plt.title('(b)')\n",
    "plt.savefig(\"./linear_stability_2.pdf\", format='pdf')\n",
    "plt.show()"
   ]
  },
  {
   "cell_type": "code",
   "execution_count": null,
   "metadata": {},
   "outputs": [],
   "source": []
  },
  {
   "cell_type": "code",
   "execution_count": 27,
   "metadata": {},
   "outputs": [],
   "source": [
    "def cayley_operator(A, r, coefficients):\n",
    "    AA = np.eye(A.shape[0])\n",
    "    res = np.zeros_like(A)\n",
    "    for k in range(r):\n",
    "        res = res + 2.0* coefficients[k+1] * (AA @ A).real\n",
    "        AA = AA @ A\n",
    "    return res.real  "
   ]
  },
  {
   "cell_type": "code",
   "execution_count": 25,
   "metadata": {},
   "outputs": [
    {
     "ename": "TypeError",
     "evalue": "cayley_operator() missing 1 required positional argument: 'coefficients'",
     "output_type": "error",
     "traceback": [
      "\u001b[0;31m---------------------------------------------------------------------------\u001b[0m",
      "\u001b[0;31mTypeError\u001b[0m                                 Traceback (most recent call last)",
      "\u001b[0;32m<ipython-input-25-ca23b7325f6d>\u001b[0m in \u001b[0;36m<module>\u001b[0;34m\u001b[0m\n\u001b[1;32m      4\u001b[0m \u001b[0mt_start\u001b[0m \u001b[0;34m=\u001b[0m \u001b[0mtime\u001b[0m\u001b[0;34m.\u001b[0m\u001b[0mtime\u001b[0m\u001b[0;34m(\u001b[0m\u001b[0;34m)\u001b[0m\u001b[0;34m\u001b[0m\u001b[0;34m\u001b[0m\u001b[0m\n\u001b[1;32m      5\u001b[0m \u001b[0ma\u001b[0m \u001b[0;34m=\u001b[0m \u001b[0;34m(\u001b[0m\u001b[0mh_1\u001b[0m\u001b[0;34m*\u001b[0m\u001b[0mlaplacian_A_csr\u001b[0m\u001b[0;34m.\u001b[0m\u001b[0mtoarray\u001b[0m\u001b[0;34m(\u001b[0m\u001b[0;34m)\u001b[0m \u001b[0;34m-\u001b[0m \u001b[0;36m1j\u001b[0m\u001b[0;34m*\u001b[0m\u001b[0mnp\u001b[0m\u001b[0;34m.\u001b[0m\u001b[0midentity\u001b[0m\u001b[0;34m(\u001b[0m\u001b[0mN\u001b[0m\u001b[0;34m)\u001b[0m\u001b[0;34m)\u001b[0m \u001b[0;34m@\u001b[0m \u001b[0mnp\u001b[0m\u001b[0;34m.\u001b[0m\u001b[0mlinalg\u001b[0m\u001b[0;34m.\u001b[0m\u001b[0minv\u001b[0m\u001b[0;34m(\u001b[0m\u001b[0mh_1\u001b[0m\u001b[0;34m*\u001b[0m\u001b[0mlaplacian_A_csr\u001b[0m\u001b[0;34m.\u001b[0m\u001b[0mtoarray\u001b[0m\u001b[0;34m(\u001b[0m\u001b[0;34m)\u001b[0m \u001b[0;34m+\u001b[0m \u001b[0;36m1j\u001b[0m\u001b[0;34m*\u001b[0m\u001b[0mnp\u001b[0m\u001b[0;34m.\u001b[0m\u001b[0midentity\u001b[0m\u001b[0;34m(\u001b[0m\u001b[0mN\u001b[0m\u001b[0;34m)\u001b[0m\u001b[0;34m)\u001b[0m\u001b[0;34m\u001b[0m\u001b[0;34m\u001b[0m\u001b[0m\n\u001b[0;32m----> 6\u001b[0;31m \u001b[0mlow_a\u001b[0m \u001b[0;34m=\u001b[0m \u001b[0mcayley_operator\u001b[0m\u001b[0;34m(\u001b[0m\u001b[0ma\u001b[0m\u001b[0;34m,\u001b[0m \u001b[0mr\u001b[0m\u001b[0;34m,\u001b[0m \u001b[0mcoefficients_low\u001b[0m\u001b[0;34m)\u001b[0m\u001b[0;34m\u001b[0m\u001b[0;34m\u001b[0m\u001b[0m\n\u001b[0m\u001b[1;32m      7\u001b[0m \u001b[0mmiddle_a\u001b[0m \u001b[0;34m=\u001b[0m \u001b[0mcayley_operator\u001b[0m\u001b[0;34m(\u001b[0m\u001b[0ma\u001b[0m\u001b[0;34m,\u001b[0m \u001b[0mr\u001b[0m\u001b[0;34m,\u001b[0m \u001b[0mcoefficients_middle\u001b[0m\u001b[0;34m)\u001b[0m\u001b[0;34m\u001b[0m\u001b[0;34m\u001b[0m\u001b[0m\n\u001b[1;32m      8\u001b[0m \u001b[0mhigh_a\u001b[0m \u001b[0;34m=\u001b[0m \u001b[0mcayley_operator\u001b[0m\u001b[0;34m(\u001b[0m\u001b[0ma\u001b[0m\u001b[0;34m,\u001b[0m \u001b[0mr\u001b[0m\u001b[0;34m,\u001b[0m \u001b[0mcoefficients_high\u001b[0m\u001b[0;34m)\u001b[0m\u001b[0;34m\u001b[0m\u001b[0;34m\u001b[0m\u001b[0m\n",
      "\u001b[0;31mTypeError\u001b[0m: cayley_operator() missing 1 required positional argument: 'coefficients'"
     ]
    }
   ],
   "source": [
    "random_level = np.arange(0, 0.95, 0.05)\n",
    "L_dif_1 = []\n",
    "G_dif_1 = []\n",
    "t_start = time.time()\n",
    "a = (h_1*laplacian_A_csr.toarray() - 1j*np.identity(N)) @ np.linalg.inv(h_1*laplacian_A_csr.toarray() + 1j*np.identity(N))\n",
    "low_a = cayley_operator(a, r, coefficients_low)\n",
    "middle_a = cayley_operator(a, r, coefficients_middle)\n",
    "high_a = cayley_operator(a, r, coefficients_high)\n",
    "for level in random_level:\n",
    "    A_prime = remove_random_edges(A, level)\n",
    "    L_prime = graph.laplacian(A_prime, normalized=True)\n",
    "    L_dif_1.append(np.linalg.norm(laplacian_A_csr.toarray() - L_prime.toarray(), 'fro') / norm_factor)\n",
    "    b = (h_1*L_prime.toarray() - 1j*np.identity(N))@ np.linalg.inv(h_1*L_prime.toarray() + 1j*np.identity(N))\n",
    "    low_b = cayley_operator(b, r, coefficients_low)\n",
    "    middle_b = cayley_operator(b, r, coefficients_middle)\n",
    "    high_b = cayley_operator(b, r, coefficients_high)\n",
    "    G_dif_1.append([np.linalg.norm(low_a-low_b,'fro')/norm_factor, np.linalg.norm(middle_a-middle_b,'fro')/norm_factor, np.linalg.norm(high_a-high_b,'fro')/norm_factor])  \n",
    "G_dif_1 = np.array(G_dif_1)    \n",
    "print('Execution time: {:.2f}s'.format(time.time() - t_start))"
   ]
  },
  {
   "cell_type": "code",
   "execution_count": 37,
   "metadata": {},
   "outputs": [
    {
     "name": "stdout",
     "output_type": "stream",
     "text": [
      "k =  0.0  -> Adding 0 edges out of  5278 .\n"
     ]
    },
    {
     "name": "stderr",
     "output_type": "stream",
     "text": [
      "/anaconda3/lib/python3.6/site-packages/scipy/sparse/_index.py:112: SparseEfficiencyWarning: Changing the sparsity structure of a csr_matrix is expensive. lil_matrix is more efficient.\n",
      "  self._set_arrayXarray(i, j, x)\n"
     ]
    },
    {
     "name": "stdout",
     "output_type": "stream",
     "text": [
      "k =  0.05  -> Adding  264  edges out of  3660000  missing.\n"
     ]
    },
    {
     "name": "stderr",
     "output_type": "stream",
     "text": [
      "/anaconda3/lib/python3.6/site-packages/scipy/sparse/_index.py:112: SparseEfficiencyWarning: Changing the sparsity structure of a csr_matrix is expensive. lil_matrix is more efficient.\n",
      "  self._set_arrayXarray(i, j, x)\n"
     ]
    },
    {
     "name": "stdout",
     "output_type": "stream",
     "text": [
      "k =  0.1  -> Adding  528  edges out of  3660000  missing.\n"
     ]
    },
    {
     "name": "stderr",
     "output_type": "stream",
     "text": [
      "/anaconda3/lib/python3.6/site-packages/scipy/sparse/_index.py:112: SparseEfficiencyWarning: Changing the sparsity structure of a csr_matrix is expensive. lil_matrix is more efficient.\n",
      "  self._set_arrayXarray(i, j, x)\n"
     ]
    },
    {
     "name": "stdout",
     "output_type": "stream",
     "text": [
      "k =  0.15000000000000002  -> Adding  792  edges out of  3660000  missing.\n"
     ]
    },
    {
     "name": "stderr",
     "output_type": "stream",
     "text": [
      "/anaconda3/lib/python3.6/site-packages/scipy/sparse/_index.py:112: SparseEfficiencyWarning: Changing the sparsity structure of a csr_matrix is expensive. lil_matrix is more efficient.\n",
      "  self._set_arrayXarray(i, j, x)\n"
     ]
    },
    {
     "name": "stdout",
     "output_type": "stream",
     "text": [
      "k =  0.2  -> Adding  1056  edges out of  3660000  missing.\n"
     ]
    },
    {
     "name": "stderr",
     "output_type": "stream",
     "text": [
      "/anaconda3/lib/python3.6/site-packages/scipy/sparse/_index.py:112: SparseEfficiencyWarning: Changing the sparsity structure of a csr_matrix is expensive. lil_matrix is more efficient.\n",
      "  self._set_arrayXarray(i, j, x)\n"
     ]
    },
    {
     "name": "stdout",
     "output_type": "stream",
     "text": [
      "k =  0.25  -> Adding  1320  edges out of  3660000  missing.\n"
     ]
    },
    {
     "name": "stderr",
     "output_type": "stream",
     "text": [
      "/anaconda3/lib/python3.6/site-packages/scipy/sparse/_index.py:112: SparseEfficiencyWarning: Changing the sparsity structure of a csr_matrix is expensive. lil_matrix is more efficient.\n",
      "  self._set_arrayXarray(i, j, x)\n"
     ]
    },
    {
     "name": "stdout",
     "output_type": "stream",
     "text": [
      "k =  0.30000000000000004  -> Adding  1583  edges out of  3660000  missing.\n"
     ]
    },
    {
     "name": "stderr",
     "output_type": "stream",
     "text": [
      "/anaconda3/lib/python3.6/site-packages/scipy/sparse/_index.py:112: SparseEfficiencyWarning: Changing the sparsity structure of a csr_matrix is expensive. lil_matrix is more efficient.\n",
      "  self._set_arrayXarray(i, j, x)\n"
     ]
    },
    {
     "name": "stdout",
     "output_type": "stream",
     "text": [
      "k =  0.35000000000000003  -> Adding  1847  edges out of  3660000  missing.\n"
     ]
    },
    {
     "name": "stderr",
     "output_type": "stream",
     "text": [
      "/anaconda3/lib/python3.6/site-packages/scipy/sparse/_index.py:112: SparseEfficiencyWarning: Changing the sparsity structure of a csr_matrix is expensive. lil_matrix is more efficient.\n",
      "  self._set_arrayXarray(i, j, x)\n"
     ]
    },
    {
     "name": "stdout",
     "output_type": "stream",
     "text": [
      "k =  0.4  -> Adding  2111  edges out of  3660000  missing.\n"
     ]
    },
    {
     "name": "stderr",
     "output_type": "stream",
     "text": [
      "/anaconda3/lib/python3.6/site-packages/scipy/sparse/_index.py:112: SparseEfficiencyWarning: Changing the sparsity structure of a csr_matrix is expensive. lil_matrix is more efficient.\n",
      "  self._set_arrayXarray(i, j, x)\n"
     ]
    },
    {
     "name": "stdout",
     "output_type": "stream",
     "text": [
      "k =  0.45  -> Adding  2375  edges out of  3660000  missing.\n"
     ]
    },
    {
     "name": "stderr",
     "output_type": "stream",
     "text": [
      "/anaconda3/lib/python3.6/site-packages/scipy/sparse/_index.py:112: SparseEfficiencyWarning: Changing the sparsity structure of a csr_matrix is expensive. lil_matrix is more efficient.\n",
      "  self._set_arrayXarray(i, j, x)\n"
     ]
    },
    {
     "name": "stdout",
     "output_type": "stream",
     "text": [
      "k =  0.5  -> Adding  2639  edges out of  3660000  missing.\n"
     ]
    },
    {
     "name": "stderr",
     "output_type": "stream",
     "text": [
      "/anaconda3/lib/python3.6/site-packages/scipy/sparse/_index.py:112: SparseEfficiencyWarning: Changing the sparsity structure of a csr_matrix is expensive. lil_matrix is more efficient.\n",
      "  self._set_arrayXarray(i, j, x)\n"
     ]
    },
    {
     "name": "stdout",
     "output_type": "stream",
     "text": [
      "k =  0.55  -> Adding  2903  edges out of  3660000  missing.\n"
     ]
    },
    {
     "name": "stderr",
     "output_type": "stream",
     "text": [
      "/anaconda3/lib/python3.6/site-packages/scipy/sparse/_index.py:112: SparseEfficiencyWarning: Changing the sparsity structure of a csr_matrix is expensive. lil_matrix is more efficient.\n",
      "  self._set_arrayXarray(i, j, x)\n"
     ]
    },
    {
     "name": "stdout",
     "output_type": "stream",
     "text": [
      "k =  0.6000000000000001  -> Adding  3167  edges out of  3660000  missing.\n"
     ]
    },
    {
     "name": "stderr",
     "output_type": "stream",
     "text": [
      "/anaconda3/lib/python3.6/site-packages/scipy/sparse/_index.py:112: SparseEfficiencyWarning: Changing the sparsity structure of a csr_matrix is expensive. lil_matrix is more efficient.\n",
      "  self._set_arrayXarray(i, j, x)\n"
     ]
    },
    {
     "name": "stdout",
     "output_type": "stream",
     "text": [
      "k =  0.65  -> Adding  3431  edges out of  3660000  missing.\n"
     ]
    },
    {
     "name": "stderr",
     "output_type": "stream",
     "text": [
      "/anaconda3/lib/python3.6/site-packages/scipy/sparse/_index.py:112: SparseEfficiencyWarning: Changing the sparsity structure of a csr_matrix is expensive. lil_matrix is more efficient.\n",
      "  self._set_arrayXarray(i, j, x)\n"
     ]
    },
    {
     "name": "stdout",
     "output_type": "stream",
     "text": [
      "k =  0.7000000000000001  -> Adding  3695  edges out of  3660000  missing.\n"
     ]
    },
    {
     "name": "stderr",
     "output_type": "stream",
     "text": [
      "/anaconda3/lib/python3.6/site-packages/scipy/sparse/_index.py:112: SparseEfficiencyWarning: Changing the sparsity structure of a csr_matrix is expensive. lil_matrix is more efficient.\n",
      "  self._set_arrayXarray(i, j, x)\n"
     ]
    },
    {
     "name": "stdout",
     "output_type": "stream",
     "text": [
      "k =  0.75  -> Adding  3958  edges out of  3660000  missing.\n"
     ]
    },
    {
     "name": "stderr",
     "output_type": "stream",
     "text": [
      "/anaconda3/lib/python3.6/site-packages/scipy/sparse/_index.py:112: SparseEfficiencyWarning: Changing the sparsity structure of a csr_matrix is expensive. lil_matrix is more efficient.\n",
      "  self._set_arrayXarray(i, j, x)\n"
     ]
    },
    {
     "name": "stdout",
     "output_type": "stream",
     "text": [
      "k =  0.8  -> Adding  4222  edges out of  3660000  missing.\n"
     ]
    },
    {
     "name": "stderr",
     "output_type": "stream",
     "text": [
      "/anaconda3/lib/python3.6/site-packages/scipy/sparse/_index.py:112: SparseEfficiencyWarning: Changing the sparsity structure of a csr_matrix is expensive. lil_matrix is more efficient.\n",
      "  self._set_arrayXarray(i, j, x)\n"
     ]
    },
    {
     "name": "stdout",
     "output_type": "stream",
     "text": [
      "k =  0.8500000000000001  -> Adding  4486  edges out of  3660000  missing.\n"
     ]
    },
    {
     "name": "stderr",
     "output_type": "stream",
     "text": [
      "/anaconda3/lib/python3.6/site-packages/scipy/sparse/_index.py:112: SparseEfficiencyWarning: Changing the sparsity structure of a csr_matrix is expensive. lil_matrix is more efficient.\n",
      "  self._set_arrayXarray(i, j, x)\n"
     ]
    },
    {
     "name": "stdout",
     "output_type": "stream",
     "text": [
      "k =  0.9  -> Adding  4750  edges out of  3660000  missing.\n",
      "Execution time: 1242.02s\n"
     ]
    }
   ],
   "source": [
    "random_level = np.arange(0, 0.95, 0.05)\n",
    "L_dif_2 = []\n",
    "G_dif_2 = []\n",
    "t_start = time.time()\n",
    "a = (h_2*laplacian_A_csr.toarray() - 1j*np.identity(N)) @ np.linalg.inv(h_2*laplacian_A_csr.toarray() + 1j*np.identity(N))\n",
    "low_a = cayley_operator(a, r, coefficients_low)\n",
    "middle_a = cayley_operator(a, r, coefficients_middle)\n",
    "high_a = cayley_operator(a, r, coefficients_high)\n",
    "for level in random_level:\n",
    "    A_prime = add_random_edges(A, level)\n",
    "    L_prime = graph.laplacian(A_prime, normalized=True)\n",
    "    L_dif_2.append(np.linalg.norm(laplacian_A_csr.toarray() - L_prime.toarray(), 'fro') / norm_factor)\n",
    "    b = (h_2*L_prime.toarray() - 1j*np.identity(N))@ np.linalg.inv(h_2*L_prime.toarray() + 1j*np.identity(N))\n",
    "    low_b = cayley_operator(b, r, coefficients_low)\n",
    "    middle_b = cayley_operator(b, r, coefficients_middle)\n",
    "    high_b = cayley_operator(b, r, coefficients_high)\n",
    "    G_dif_2.append([np.linalg.norm(low_a-low_b,'fro')/norm_factor, np.linalg.norm(middle_a-middle_b,'fro')/norm_factor, np.linalg.norm(high_a-high_b,'fro')/norm_factor])  \n",
    "G_dif_2 = np.array(G_dif_2)    \n",
    "print('Execution time: {:.2f}s'.format(time.time() - t_start))"
   ]
  }
 ],
 "metadata": {
  "kernelspec": {
   "display_name": "Python 3",
   "language": "python",
   "name": "python3"
  },
  "language_info": {
   "codemirror_mode": {
    "name": "ipython",
    "version": 3
   },
   "file_extension": ".py",
   "mimetype": "text/x-python",
   "name": "python",
   "nbconvert_exporter": "python",
   "pygments_lexer": "ipython3",
   "version": "3.6.8"
  }
 },
 "nbformat": 4,
 "nbformat_minor": 2
}
